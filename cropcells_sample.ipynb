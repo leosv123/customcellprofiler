{
 "cells": [
  {
   "cell_type": "code",
   "execution_count": 1,
   "metadata": {},
   "outputs": [
    {
     "name": "stderr",
     "output_type": "stream",
     "text": [
      "/Users/lingrajsvannur/opt/anaconda3/lib/python3.9/site-packages/scipy/__init__.py:146: UserWarning: A NumPy version >=1.16.5 and <1.23.0 is required for this version of SciPy (detected version 1.24.1\n",
      "  warnings.warn(f\"A NumPy version >={np_minversion} and <{np_maxversion}\"\n"
     ]
    }
   ],
   "source": [
    "import argparse\n",
    "import os\n",
    "\n",
    "from PIL import Image\n",
    "\n",
    "import numpy as np\n",
    "import pandas as pd\n",
    "import copy\n",
    "\n",
    "import matplotlib\n",
    "import matplotlib.pyplot as plt\n",
    "#from libtiff import TIFF\n",
    "from skimage import io\n",
    "import cv2"
   ]
  },
  {
   "cell_type": "code",
   "execution_count": 2,
   "metadata": {},
   "outputs": [
    {
     "name": "stdout",
     "output_type": "stream",
     "text": [
      "9\n"
     ]
    }
   ],
   "source": [
    "screen = 'Plate13'\n",
    "\n",
    "data = pd.read_csv('cellprofiler_output.csv')\n",
    "print(data.shape[0])\n",
    "data = data[data['yeast_AreaShape_Area'] > 999]\n",
    "n_cell = data.shape[0]"
   ]
  },
  {
   "cell_type": "code",
   "execution_count": 5,
   "metadata": {},
   "outputs": [
    {
     "name": "stdout",
     "output_type": "stream",
     "text": [
      "Successfully created the directory \n"
     ]
    }
   ],
   "source": [
    "try:\n",
    "    os.mkdir('cell_print_xy')\n",
    "except OSError:\n",
    "    print(\"Creation of the directory failed\")\n",
    "else:\n",
    "    print(\"Successfully created the directory \")\n",
    "\n",
    "\n",
    "sql_col_names = ['ImageNumber', 'Image_FileName_GFP1', 'Image_FileName_GFP2',\n",
    "                 'yeast_AreaShape_Center_X', 'yeast_AreaShape_Center_Y', 'yeast_AreaShape_Area',\n",
    "                 'yeast_Intensity_IntegratedIntensity_ResizeGFP2', 'yeast_Intensity_MeanIntensity_ResizeGFP2',\n",
    "                 'yeast_Intensity_StdIntensity_ResizeGFP2', 'yeast_Intensity_MinIntensity_ResizeGFP2',\n",
    "                 'yeast_Intensity_MaxIntensity_ResizeGFP2', 'yeast_Intensity_IntegratedIntensityEdge_ResizeGFP2']"
   ]
  },
  {
   "cell_type": "code",
   "execution_count": 6,
   "metadata": {},
   "outputs": [],
   "source": [
    "basePath = '/Users/lingrajsvannur/Downloads/Resized_1_5_linear/'\n",
    "cropSize = 60\n",
    "\n",
    "\n",
    "imSize = 64\n",
    "numClasses = 19\n",
    "numChan = 1\n",
    "\n",
    "\n",
    "croppedCells = np.zeros((n_cell, imSize ** 2 * 2))\n",
    "coordUsed = np.zeros((n_cell, 2))\n",
    "\n",
    "ind = 0\n",
    "\n",
    "#selected_wells = []\n",
    "wellNames = []\n",
    "\n",
    "GFP_images = np.unique(data['Image_FileName_GFP2'])\n",
    "GFP_images.sort()\n",
    "wells = np.unique([seq[0:8] for seq in GFP_images])\n"
   ]
  },
  {
   "cell_type": "code",
   "execution_count": 7,
   "metadata": {},
   "outputs": [
    {
     "data": {
      "text/plain": [
       "array(['001001-1'], dtype='<U8')"
      ]
     },
     "execution_count": 7,
     "metadata": {},
     "output_type": "execute_result"
    }
   ],
   "source": [
    "wells"
   ]
  },
  {
   "cell_type": "code",
   "execution_count": 10,
   "metadata": {},
   "outputs": [
    {
     "name": "stdout",
     "output_type": "stream",
     "text": [
      "001001-1\n",
      "(1620, 1620)\n",
      "5\n",
      "(5, 8192)\n",
      "(5, 2)\n"
     ]
    }
   ],
   "source": [
    "for well in wells:\n",
    "    print(well)\n",
    "    # if well[0:6] != prewell[0:6]:\n",
    "    # break\n",
    "    #G_array = G_arrays[int(frame/2)]\n",
    "    #R_array = R_arrays[int(frame/2)]\n",
    "    G_array = io.imread(basePath+well+'-001001004.tif')\n",
    "    #R_array = io.imread(basePath+'Resized_1_5_linear/'+well+'-001001003.tif')\n",
    "    B_array = io.imread(basePath+well+'-001001001.tif')\n",
    "    #GFPImg_L=GFPImg.resize((2160, 2160),Image.NEAREST)\n",
    "    # GFPImg.save(self.basePath+'tif_file/'+well+'-001001002thumbnail.tif')\n",
    "    #GFPImg_L = Image.open(self.basePath+'tif_file/'+well+'-001001002thumbnail.tif')\n",
    "    #G_array = GFPImg.read_image()\n",
    "    print(G_array.shape)\n",
    "    curCoordinates = data[data['Image_FileName_GFP2'] == well + '-001001004.tif'][\n",
    "        ['yeast_AreaShape_Center_X',\n",
    "         'yeast_AreaShape_Center_Y']]\n",
    "\n",
    "    #RFPImg = Image.open(self.basePath+'resized_1_5/'+well+'-001001003processed_boundary.tiff')\n",
    "    #RFPImg_L=RFPImg.resize((2160, 2160),Image.NEAREST)\n",
    "    #R_array = np.zeros((G_array.shape))\n",
    "\n",
    "    coord = 0\n",
    "    while coord < len(curCoordinates):\n",
    "        cur_y, cur_x = curCoordinates.values[coord]\n",
    "\n",
    "        if (cur_x - imSize / 2 > 0 and cur_x + imSize / 2 < G_array.shape[0] and\n",
    "           cur_y - imSize / 2 > 0 and cur_y + imSize / 2 < G_array.shape[1]):\n",
    "            croppedCells[ind, : imSize ** 2] = (\n",
    "                G_array[int(np.floor(cur_x - imSize / 2)):int(np.floor(cur_x + imSize / 2)),\n",
    "                        int(np.floor(cur_y - imSize / 2)):int(np.floor(cur_y + imSize / 2))]).ravel()\n",
    "\n",
    "            croppedCells[ind, imSize ** 2:] = (\n",
    "                B_array[int(np.floor(cur_x - imSize / 2)):int(np.floor(cur_x + imSize / 2)),\n",
    "                        int(np.floor(cur_y - imSize / 2)):int(np.floor(cur_y + imSize / 2))]).ravel()\n",
    "\n",
    "            coordUsed[ind, :] = [cur_y, cur_x]\n",
    "\n",
    "            coord += 1\n",
    "\n",
    "            wellNames.append(well)\n",
    "\n",
    "            cell_arrayB = B_array[int(np.floor(cur_x - imSize / 2)):int(np.floor(\n",
    "                cur_x + imSize / 2)), int(np.floor(cur_y - imSize / 2)):int(np.floor(cur_y + imSize / 2))]\n",
    "            cell_arrayG = G_array[int(np.floor(cur_x - imSize / 2)):int(np.floor(\n",
    "                cur_x + imSize / 2)), int(np.floor(cur_y - imSize / 2)):int(np.floor(cur_y + imSize / 2))]\n",
    "            #rgbArray = np.zeros((64,64,3), 'uint8')\n",
    "            #rgbArray[..., 0]=cell_arrayR\n",
    "            #rgbArray[..., 1]=cell_arrayG\n",
    "            #rgbArray[..., 2]=np.zeros(cell_arrayR.shape)\n",
    "            cell_GFP = Image.fromarray(cell_arrayG)\n",
    "            cell_nucli = Image.fromarray(cell_arrayB)\n",
    "\n",
    "            cell_GFP.save('cell_print_xy/'+well+'_' +\n",
    "                          str(cur_y)+'_'+str(cur_x)+'_GFP.tif')\n",
    "            cell_nucli.save('cell_print_xy/'+well +\n",
    "                            '_'+str(cur_y)+'_'+str(cur_x)+'_nucli.tif')\n",
    "            ind += 1\n",
    "\n",
    "        else:\n",
    "            coord += 1\n",
    "\n",
    "\n",
    "curCroppedCells = croppedCells[:ind]\n",
    "print(n_cell)\n",
    "print(croppedCells.shape)\n",
    "#intensityUsed = intensityUsed[:ind]\n",
    "print(coordUsed.shape)\n",
    "\n"
   ]
  },
  {
   "cell_type": "code",
   "execution_count": 12,
   "metadata": {},
   "outputs": [],
   "source": [
    "import skimage"
   ]
  },
  {
   "cell_type": "code",
   "execution_count": 20,
   "metadata": {},
   "outputs": [
    {
     "data": {
      "text/plain": [
       "<matplotlib.image.AxesImage at 0x7f7cb043d100>"
      ]
     },
     "execution_count": 20,
     "metadata": {},
     "output_type": "execute_result"
    },
    {
     "data": {
      "image/png": "[encoded data removed]",
      "text/plain": [
       "<Figure size 432x288 with 1 Axes>"
      ]
     },
     "metadata": {
      "needs_background": "light"
     },
     "output_type": "display_data"
    }
   ],
   "source": [
    "img = skimage.io.imread(\"/Users/lingrajsvannur/Desktop/AutoML/cellprofilebuck/cell_print_xy/001001-1_281.0758693361433_495.3983140147524_GFP.tif\")\n"
   ]
  },
  {
   "cell_type": "code",
   "execution_count": null,
   "metadata": {},
   "outputs": [],
   "source": [
    "skimage.io.imshow(img)"
   ]
  },
  {
   "cell_type": "code",
   "execution_count": 21,
   "metadata": {},
   "outputs": [
    {
     "data": {
      "text/plain": [
       "<matplotlib.image.AxesImage at 0x7f7cd18a7460>"
      ]
     },
     "execution_count": 21,
     "metadata": {},
     "output_type": "execute_result"
    },
    {
     "data": {
      "image/png": "[encoded data removed]",
      "text/plain": [
       "<Figure size 432x288 with 1 Axes>"
      ]
     },
     "metadata": {
      "needs_background": "light"
     },
     "output_type": "display_data"
    }
   ],
   "source": [
    "img = skimage.io.imread(\"/Users/lingrajsvannur/Desktop/AutoML/cellprofilebuck/cell_print_xy/001001-1_1341.8990384615386_669.2298076923076_nucli.tif\")\n",
    "skimage.io.imshow(img)"
   ]
  },
  {
   "cell_type": "code",
   "execution_count": 22,
   "metadata": {},
   "outputs": [
    {
     "data": {
      "text/plain": [
       "(64, 64)"
      ]
     },
     "execution_count": 22,
     "metadata": {},
     "output_type": "execute_result"
    }
   ],
   "source": [
    "img.shape"
   ]
  },
  {
   "cell_type": "code",
   "execution_count": null,
   "metadata": {},
   "outputs": [],
   "source": []
  }
 ],
 "metadata": {
  "kernelspec": {
   "display_name": "Python 3.9.12 ('base')",
   "language": "python",
   "name": "python3"
  },
  "language_info": {
   "codemirror_mode": {
    "name": "ipython",
    "version": 3
   },
   "file_extension": ".py",
   "mimetype": "text/x-python",
   "name": "python",
   "nbconvert_exporter": "python",
   "pygments_lexer": "ipython3",
   "version": "3.9.12"
  },
  "orig_nbformat": 4,
  "vscode": {
   "interpreter": {
    "hash": "e5bce0f92a8cf2dd4e4cacd57473752bda9413a07787bb56fad96fb5aad2e662"
   }
  }
 },
 "nbformat": 4,
 "nbformat_minor": 2
}
